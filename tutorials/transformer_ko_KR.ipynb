{
 "cells": [
  {
   "cell_type": "markdown",
   "metadata": {},
   "source": [
    "# 트랜스포머와 케라스를 활용한 기계 번역"
   ]
  },
  {
   "cell_type": "markdown",
   "metadata": {},
   "source": [
    "이 튜토리얼은 `Amazon EC2` 서비스의 DLAMI를 사용하여 수행하는 내용과, `Amazon SageMaker` JupyterLab 환경에서 수행하는 내용으로 분리되었습니다.<br>\n",
    "각각의 내용은 아래에서 찾을 수 있습니다.\n",
    "\n",
    "1. [`Amazon EC2`의 DLAMI 활용하여 트랜스포머 구현해 보기](./transformer_ko_KR_DLAMI.ipynb)\n",
    "2. [`Amazon SageMaker`의 JupyterLab 환경에서 트랜스포머 구현해 보기 (WIP)](./transformer_ko_KR_DLAMI.ipynb)\n",
    "   * TensorFlow의 최신 버번과 `Amazon SageMaker`가 관리하는 NVIDIA Driver, CUDA, cuDNN 라이브러리가 상이하여 스크립트 내용을 그대로 수행하면 정상동작하지 않습니다.\n",
    "     * 현재 (\"2023-12-16\") `Amazon SageMaker` 노트북 인스턴스의 TensorFlow Framework의 버전은 \"2.12.1\" 이며, TensorFlow 최신 버전은 \"2.15.0\"입니다.\n",
    "     * `Amazon SageMaker` 노트북 인스턴스에서 TensorFlow 버전을 최신 버전으로 수정하면 GPU가 활용되지 못합니다 (cuDNN, CUDA 및 NVIDIA 드라이버 호환성 문제)\n",
    "     * 그리고 노트북 인스턴스의 터미널 환경에서는 Root 권한을 사용할 수 없으므로 cuDNN, CUDA, NVIDIA 드라이버를 업그레읻할 수 없습니다.\n",
    "   * `Amazon SageMaker` 노트북 인스턴스의 Life Cycle 관리 기능을 활용하면 모든 라이브러리를 최신으로 설정 가능하지만 추후 내용을 보강할 내용이며, 당분간은 위의 DLAMI 환경에서 수행할 것을 권장합니다."
   ]
  }
 ],
 "metadata": {
  "colab": {
   "last_runtime": {
    "build_target": "//learning/deepmind/public/tools/ml_python:ml_notebook",
    "kind": "private"
   },
   "private_outputs": true,
   "provenance": []
  },
  "kernelspec": {
   "display_name": "Python 3 (ipykernel)",
   "language": "python",
   "name": "python3"
  },
  "language_info": {
   "codemirror_mode": {
    "name": "ipython",
    "version": 3
   },
   "file_extension": ".py",
   "mimetype": "text/x-python",
   "name": "python",
   "nbconvert_exporter": "python",
   "pygments_lexer": "ipython3",
   "version": "3.11.6"
  }
 },
 "nbformat": 4,
 "nbformat_minor": 0
}
